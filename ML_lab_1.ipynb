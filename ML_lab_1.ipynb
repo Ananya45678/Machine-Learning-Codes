{
  "nbformat": 4,
  "nbformat_minor": 0,
  "metadata": {
    "colab": {
      "provenance": [],
      "authorship_tag": "ABX9TyPIZ40FGD4S/7M4cvIG+fGU",
      "include_colab_link": true
    },
    "kernelspec": {
      "name": "python3",
      "display_name": "Python 3"
    },
    "language_info": {
      "name": "python"
    }
  },
  "cells": [
    {
      "cell_type": "markdown",
      "metadata": {
        "id": "view-in-github",
        "colab_type": "text"
      },
      "source": [
        "<a href=\"https://colab.research.google.com/github/Ananya45678/Machine-Learning-Codes/blob/main/ML_lab_1.ipynb\" target=\"_parent\"><img src=\"https://colab.research.google.com/assets/colab-badge.svg\" alt=\"Open In Colab\"/></a>"
      ]
    },
    {
      "cell_type": "markdown",
      "source": [
        "**QUESTION 1.**\n",
        "\n",
        "Consider the given list as [2, 7, 4, 1, 3, 6]. Write a program to count pairs of elements with\n",
        "sum equal to 10"
      ],
      "metadata": {
        "id": "2EPvc87mFpCR"
      }
    },
    {
      "cell_type": "code",
      "source": [
        "L = [2, 7, 4, 1, 3, 6]\n",
        "count = 0\n",
        "for i in range(len(L)):\n",
        "  for j in range(i + 1, len(L)):\n",
        "    if (L[i] + L[j] == 10):\n",
        "      count += 1\n",
        "      print(f\"The pairs of elements that add up to 10 are: ({L[i]}, {L[j]})\")\n",
        "\n",
        "print(\"The count of the pairs is: \", count)"
      ],
      "metadata": {
        "colab": {
          "base_uri": "https://localhost:8080/"
        },
        "id": "ho9yuwDaFvrA",
        "outputId": "d88e7778-84fb-4bd7-b7fc-bed80e98148d"
      },
      "execution_count": 12,
      "outputs": [
        {
          "output_type": "stream",
          "name": "stdout",
          "text": [
            "The pairs of elements that add up to 10 are: (7, 3)\n",
            "The pairs of elements that add up to 10 are: (4, 6)\n",
            "The count of the pairs is:  2\n"
          ]
        }
      ]
    },
    {
      "cell_type": "markdown",
      "source": [
        "**QUESTION 2.**\n",
        "\n",
        "Write a program that takes a list of real numbers as input and returns the range (difference\n",
        "between minimum and maximum) of the list. Check for list being less than 3 elements in\n",
        "which case return an error message (Ex: “Range determination not possible”). Given a list\n",
        "[5,3,8,1,0,4], the range is 8 (8-0)."
      ],
      "metadata": {
        "id": "aWM1O0x3I5pZ"
      }
    },
    {
      "cell_type": "code",
      "source": [
        "n = int(input(\"Enter the length of the list: \"))\n",
        "L = []\n",
        "for i in range(n):\n",
        "  if (n < 3):\n",
        "    print(\"The length of the list should be greater than 3\")\n",
        "    break\n",
        "  else:\n",
        "    L.append(int(input(f\"Enter element {i+1}: \")))\n",
        "\n",
        "largest = L[0]\n",
        "smallest = L[0]\n",
        "for i in range(len(L)):\n",
        "  if (L[i] > largest):\n",
        "    largest = L[i]\n",
        "  elif (L[i] < smallest):\n",
        "    smallest = L[i]\n",
        "\n",
        "print(\"The largest number in the list is: \", largest)\n",
        "print(\"The smallest number in the list is: \", smallest)\n",
        "diff = largest - smallest\n",
        "print(\"The difference between the largest and smallest number is: \", diff)"
      ],
      "metadata": {
        "colab": {
          "base_uri": "https://localhost:8080/"
        },
        "id": "Ytol8zKNI86-",
        "outputId": "c3f73bf1-e7fb-44b0-8106-94ba5ff274a9"
      },
      "execution_count": 14,
      "outputs": [
        {
          "output_type": "stream",
          "name": "stdout",
          "text": [
            "Enter the length of the list: 6\n",
            "Enter element 1: 5\n",
            "Enter element 2: 3\n",
            "Enter element 3: 9\n",
            "Enter element 4: 4\n",
            "Enter element 5: 2\n",
            "Enter element 6: 7\n",
            "The largest number in the list is:  9\n",
            "The smallest number in the list is:  2\n",
            "The difference between the largest and smallest number is:  7\n"
          ]
        }
      ]
    },
    {
      "cell_type": "markdown",
      "source": [
        "**QUESTION 3.**\n",
        "\n",
        "Write a program that accepts a square matrix A and a positive integer m as arguments and\n",
        "returns A^m."
      ],
      "metadata": {
        "id": "LMoCHe1-KwwD"
      }
    },
    {
      "cell_type": "code",
      "source": [
        "import numpy as np"
      ],
      "metadata": {
        "id": "IEBEsnyxZodl"
      },
      "execution_count": 34,
      "outputs": []
    },
    {
      "cell_type": "code",
      "source": [
        "r = int(input(\"Enter the number of rows: \"))\n",
        "c = int(input(\"Enter the number of columns: \"))\n",
        "A = []\n",
        "for i in range(r):\n",
        "  row = []\n",
        "  for j in range(c):\n",
        "    row.append(int(input(f\"Enter the ({i+1}, {j+1}) element: \")))\n",
        "  A.append(row)\n",
        "\n",
        "print(\"The matrix is: \", A)\n",
        "m = int(input(\"Enter the power: \"))\n",
        "mult = np.linalg.matrix_power(A, m)\n",
        "print(\"The answer is: \", mult)"
      ],
      "metadata": {
        "colab": {
          "base_uri": "https://localhost:8080/"
        },
        "id": "PkZoV_J1LEWH",
        "outputId": "89e0a839-d5b5-4b29-ca57-b2d097b35759"
      },
      "execution_count": 21,
      "outputs": [
        {
          "output_type": "stream",
          "name": "stdout",
          "text": [
            "Enter the number of rows: 2\n",
            "Enter the number of columns: 2\n",
            "Enter the (1, 1) element: 2\n",
            "Enter the (1, 2) element: 2\n",
            "Enter the (2, 1) element: 2\n",
            "Enter the (2, 2) element: 2\n",
            "The matrix is:  [[2, 2], [2, 2]]\n",
            "Enter the power: 2\n",
            "The answer is:  [[8 8]\n",
            " [8 8]]\n"
          ]
        }
      ]
    },
    {
      "cell_type": "markdown",
      "source": [
        "**QUESTION 4.**\n",
        "\n",
        "Write a program to count the highest occurring character & its occurrence count in an input\n",
        "string. Consider only alphabets. Ex: for “hippopotamus” as input string, the maximally\n",
        "occurring character is ‘p’ & occurrence count is 3."
      ],
      "metadata": {
        "id": "w4xYUc4oNw9s"
      }
    },
    {
      "cell_type": "code",
      "source": [
        "string = input(\"Enter the string: \")\n",
        "max_count = 0\n",
        "most_rec = \"\"\n",
        "\n",
        "for i in range(len(string)):\n",
        "    temp = string[i]\n",
        "    count = 0\n",
        "    for j in range(len(string)):\n",
        "        if string[j] == temp:\n",
        "            count += 1\n",
        "\n",
        "    if count > max_count:\n",
        "        max_count = count\n",
        "        most_rec = temp\n",
        "\n",
        "print(\"The most recurring character is:\", most_rec)\n",
        "print(\"The count is:\", max_count)"
      ],
      "metadata": {
        "colab": {
          "base_uri": "https://localhost:8080/"
        },
        "id": "FsR16KS5Nz6o",
        "outputId": "46d4f406-766c-4ffc-b496-3437f282b07b"
      },
      "execution_count": 33,
      "outputs": [
        {
          "output_type": "stream",
          "name": "stdout",
          "text": [
            "Enter the string: hippopotamus\n",
            "The most recurring character is: p\n",
            "The count is: 3\n"
          ]
        }
      ]
    }
  ]
}
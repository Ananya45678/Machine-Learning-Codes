{
  "nbformat": 4,
  "nbformat_minor": 0,
  "metadata": {
    "colab": {
      "provenance": [],
      "authorship_tag": "ABX9TyPxobbBc9hqHeOV/Uzi1A/I",
      "include_colab_link": true
    },
    "kernelspec": {
      "name": "python3",
      "display_name": "Python 3"
    },
    "language_info": {
      "name": "python"
    }
  },
  "cells": [
    {
      "cell_type": "markdown",
      "metadata": {
        "id": "view-in-github",
        "colab_type": "text"
      },
      "source": [
        "<a href=\"https://colab.research.google.com/github/Ananya45678/Machine-Learning-Codes/blob/main/ML_lab_2.ipynb\" target=\"_parent\"><img src=\"https://colab.research.google.com/assets/colab-badge.svg\" alt=\"Open In Colab\"/></a>"
      ]
    },
    {
      "cell_type": "code",
      "execution_count": 27,
      "metadata": {
        "colab": {
          "base_uri": "https://localhost:8080/",
          "height": 73
        },
        "id": "pawFsiQaYGlO",
        "outputId": "3b316de0-60fc-41f6-f0cf-487a44216721"
      },
      "outputs": [
        {
          "output_type": "display_data",
          "data": {
            "text/plain": [
              "<IPython.core.display.HTML object>"
            ],
            "text/html": [
              "\n",
              "     <input type=\"file\" id=\"files-d66d6b48-df04-4071-8411-d1fd0bc69d73\" name=\"files[]\" multiple disabled\n",
              "        style=\"border:none\" />\n",
              "     <output id=\"result-d66d6b48-df04-4071-8411-d1fd0bc69d73\">\n",
              "      Upload widget is only available when the cell has been executed in the\n",
              "      current browser session. Please rerun this cell to enable.\n",
              "      </output>\n",
              "      <script>// Copyright 2017 Google LLC\n",
              "//\n",
              "// Licensed under the Apache License, Version 2.0 (the \"License\");\n",
              "// you may not use this file except in compliance with the License.\n",
              "// You may obtain a copy of the License at\n",
              "//\n",
              "//      http://www.apache.org/licenses/LICENSE-2.0\n",
              "//\n",
              "// Unless required by applicable law or agreed to in writing, software\n",
              "// distributed under the License is distributed on an \"AS IS\" BASIS,\n",
              "// WITHOUT WARRANTIES OR CONDITIONS OF ANY KIND, either express or implied.\n",
              "// See the License for the specific language governing permissions and\n",
              "// limitations under the License.\n",
              "\n",
              "/**\n",
              " * @fileoverview Helpers for google.colab Python module.\n",
              " */\n",
              "(function(scope) {\n",
              "function span(text, styleAttributes = {}) {\n",
              "  const element = document.createElement('span');\n",
              "  element.textContent = text;\n",
              "  for (const key of Object.keys(styleAttributes)) {\n",
              "    element.style[key] = styleAttributes[key];\n",
              "  }\n",
              "  return element;\n",
              "}\n",
              "\n",
              "// Max number of bytes which will be uploaded at a time.\n",
              "const MAX_PAYLOAD_SIZE = 100 * 1024;\n",
              "\n",
              "function _uploadFiles(inputId, outputId) {\n",
              "  const steps = uploadFilesStep(inputId, outputId);\n",
              "  const outputElement = document.getElementById(outputId);\n",
              "  // Cache steps on the outputElement to make it available for the next call\n",
              "  // to uploadFilesContinue from Python.\n",
              "  outputElement.steps = steps;\n",
              "\n",
              "  return _uploadFilesContinue(outputId);\n",
              "}\n",
              "\n",
              "// This is roughly an async generator (not supported in the browser yet),\n",
              "// where there are multiple asynchronous steps and the Python side is going\n",
              "// to poll for completion of each step.\n",
              "// This uses a Promise to block the python side on completion of each step,\n",
              "// then passes the result of the previous step as the input to the next step.\n",
              "function _uploadFilesContinue(outputId) {\n",
              "  const outputElement = document.getElementById(outputId);\n",
              "  const steps = outputElement.steps;\n",
              "\n",
              "  const next = steps.next(outputElement.lastPromiseValue);\n",
              "  return Promise.resolve(next.value.promise).then((value) => {\n",
              "    // Cache the last promise value to make it available to the next\n",
              "    // step of the generator.\n",
              "    outputElement.lastPromiseValue = value;\n",
              "    return next.value.response;\n",
              "  });\n",
              "}\n",
              "\n",
              "/**\n",
              " * Generator function which is called between each async step of the upload\n",
              " * process.\n",
              " * @param {string} inputId Element ID of the input file picker element.\n",
              " * @param {string} outputId Element ID of the output display.\n",
              " * @return {!Iterable<!Object>} Iterable of next steps.\n",
              " */\n",
              "function* uploadFilesStep(inputId, outputId) {\n",
              "  const inputElement = document.getElementById(inputId);\n",
              "  inputElement.disabled = false;\n",
              "\n",
              "  const outputElement = document.getElementById(outputId);\n",
              "  outputElement.innerHTML = '';\n",
              "\n",
              "  const pickedPromise = new Promise((resolve) => {\n",
              "    inputElement.addEventListener('change', (e) => {\n",
              "      resolve(e.target.files);\n",
              "    });\n",
              "  });\n",
              "\n",
              "  const cancel = document.createElement('button');\n",
              "  inputElement.parentElement.appendChild(cancel);\n",
              "  cancel.textContent = 'Cancel upload';\n",
              "  const cancelPromise = new Promise((resolve) => {\n",
              "    cancel.onclick = () => {\n",
              "      resolve(null);\n",
              "    };\n",
              "  });\n",
              "\n",
              "  // Wait for the user to pick the files.\n",
              "  const files = yield {\n",
              "    promise: Promise.race([pickedPromise, cancelPromise]),\n",
              "    response: {\n",
              "      action: 'starting',\n",
              "    }\n",
              "  };\n",
              "\n",
              "  cancel.remove();\n",
              "\n",
              "  // Disable the input element since further picks are not allowed.\n",
              "  inputElement.disabled = true;\n",
              "\n",
              "  if (!files) {\n",
              "    return {\n",
              "      response: {\n",
              "        action: 'complete',\n",
              "      }\n",
              "    };\n",
              "  }\n",
              "\n",
              "  for (const file of files) {\n",
              "    const li = document.createElement('li');\n",
              "    li.append(span(file.name, {fontWeight: 'bold'}));\n",
              "    li.append(span(\n",
              "        `(${file.type || 'n/a'}) - ${file.size} bytes, ` +\n",
              "        `last modified: ${\n",
              "            file.lastModifiedDate ? file.lastModifiedDate.toLocaleDateString() :\n",
              "                                    'n/a'} - `));\n",
              "    const percent = span('0% done');\n",
              "    li.appendChild(percent);\n",
              "\n",
              "    outputElement.appendChild(li);\n",
              "\n",
              "    const fileDataPromise = new Promise((resolve) => {\n",
              "      const reader = new FileReader();\n",
              "      reader.onload = (e) => {\n",
              "        resolve(e.target.result);\n",
              "      };\n",
              "      reader.readAsArrayBuffer(file);\n",
              "    });\n",
              "    // Wait for the data to be ready.\n",
              "    let fileData = yield {\n",
              "      promise: fileDataPromise,\n",
              "      response: {\n",
              "        action: 'continue',\n",
              "      }\n",
              "    };\n",
              "\n",
              "    // Use a chunked sending to avoid message size limits. See b/62115660.\n",
              "    let position = 0;\n",
              "    do {\n",
              "      const length = Math.min(fileData.byteLength - position, MAX_PAYLOAD_SIZE);\n",
              "      const chunk = new Uint8Array(fileData, position, length);\n",
              "      position += length;\n",
              "\n",
              "      const base64 = btoa(String.fromCharCode.apply(null, chunk));\n",
              "      yield {\n",
              "        response: {\n",
              "          action: 'append',\n",
              "          file: file.name,\n",
              "          data: base64,\n",
              "        },\n",
              "      };\n",
              "\n",
              "      let percentDone = fileData.byteLength === 0 ?\n",
              "          100 :\n",
              "          Math.round((position / fileData.byteLength) * 100);\n",
              "      percent.textContent = `${percentDone}% done`;\n",
              "\n",
              "    } while (position < fileData.byteLength);\n",
              "  }\n",
              "\n",
              "  // All done.\n",
              "  yield {\n",
              "    response: {\n",
              "      action: 'complete',\n",
              "    }\n",
              "  };\n",
              "}\n",
              "\n",
              "scope.google = scope.google || {};\n",
              "scope.google.colab = scope.google.colab || {};\n",
              "scope.google.colab._files = {\n",
              "  _uploadFiles,\n",
              "  _uploadFilesContinue,\n",
              "};\n",
              "})(self);\n",
              "</script> "
            ]
          },
          "metadata": {}
        },
        {
          "output_type": "stream",
          "name": "stdout",
          "text": [
            "Saving Lab Session Data.xlsx to Lab Session Data (1).xlsx\n"
          ]
        }
      ],
      "source": [
        "from google.colab import files\n",
        "uploaded = files.upload()"
      ]
    },
    {
      "cell_type": "code",
      "source": [
        "import pandas as pd\n",
        "import numpy as np\n",
        "from sklearn.linear_model import LogisticRegression\n",
        "from sklearn.preprocessing import LabelEncoder, OneHotEncoder, StandardScaler, MinMaxScaler\n",
        "import statistics\n",
        "import matplotlib.pyplot as plt\n",
        "import seaborn as sns\n",
        "from sklearn.metrics.pairwise import cosine_similarity"
      ],
      "metadata": {
        "id": "5SitAR9tYlEt"
      },
      "execution_count": 29,
      "outputs": []
    },
    {
      "cell_type": "markdown",
      "source": [
        "**QUESTION 1.**"
      ],
      "metadata": {
        "id": "kSgd6VvDJqDE"
      }
    },
    {
      "cell_type": "markdown",
      "source": [
        "Please refer to the “Purchase Data” worksheet of Lab Session Data.xlsx. Please load the data\n",
        "and segregate them into 2 matrices A & C (following the nomenclature of AX = C). Do the following\n",
        "activities."
      ],
      "metadata": {
        "id": "go8xSFt6Ee-o"
      }
    },
    {
      "cell_type": "code",
      "source": [
        "sheet_name = \"Purchase data\"\n",
        "df = pd.read_excel(\"Lab Session Data.xlsx\", sheet_name = sheet_name)\n",
        "df = df.dropna(axis=1, how='all')\n",
        "\n",
        "A = df[['Candies (#)', 'Mangoes (Kg)', 'Milk Packets (#)']].to_numpy()\n",
        "C = df[['Payment (Rs)']].to_numpy()\n",
        "\n",
        "print(\"Matrix A: \", A)\n",
        "print(\"Matrix C: \", C)"
      ],
      "metadata": {
        "colab": {
          "base_uri": "https://localhost:8080/",
          "height": 0
        },
        "id": "GeosEIdOZSsJ",
        "outputId": "5041e315-4d04-4d3c-94d1-7c9e06149c3b"
      },
      "execution_count": 3,
      "outputs": [
        {
          "output_type": "stream",
          "name": "stdout",
          "text": [
            "Matrix A:  [[20  6  2]\n",
            " [16  3  6]\n",
            " [27  6  2]\n",
            " [19  1  2]\n",
            " [24  4  2]\n",
            " [22  1  5]\n",
            " [15  4  2]\n",
            " [18  4  2]\n",
            " [21  1  4]\n",
            " [16  2  4]]\n",
            "Matrix C:  [[386]\n",
            " [289]\n",
            " [393]\n",
            " [110]\n",
            " [280]\n",
            " [167]\n",
            " [271]\n",
            " [274]\n",
            " [148]\n",
            " [198]]\n"
          ]
        }
      ]
    },
    {
      "cell_type": "markdown",
      "source": [
        "What is the dimensionality of the vector space for this data?"
      ],
      "metadata": {
        "id": "8r7eYIsKEloi"
      }
    },
    {
      "cell_type": "code",
      "source": [
        "dimensionality = A.shape[1]\n",
        "print(\"Dimensionality of the vector space:\", dimensionality)"
      ],
      "metadata": {
        "colab": {
          "base_uri": "https://localhost:8080/",
          "height": 0
        },
        "id": "KHIu6ncJGl94",
        "outputId": "13aba6c8-b77b-4f64-845f-b37cae4bbfdc"
      },
      "execution_count": 4,
      "outputs": [
        {
          "output_type": "stream",
          "name": "stdout",
          "text": [
            "Dimensionality of the vector space: 3\n"
          ]
        }
      ]
    },
    {
      "cell_type": "markdown",
      "source": [
        "How many vectors exist in this vector space?\n"
      ],
      "metadata": {
        "id": "HS6pKSs9Eojn"
      }
    },
    {
      "cell_type": "code",
      "source": [
        "num_vectors = A.shape[0]\n",
        "print(\"Number of vectors in the vector space:\", num_vectors)"
      ],
      "metadata": {
        "colab": {
          "base_uri": "https://localhost:8080/",
          "height": 0
        },
        "id": "gfm_B9YgHFmV",
        "outputId": "63a93cfc-c00e-4322-9851-de7fbf1888f2"
      },
      "execution_count": 5,
      "outputs": [
        {
          "output_type": "stream",
          "name": "stdout",
          "text": [
            "Number of vectors in the vector space: 10\n"
          ]
        }
      ]
    },
    {
      "cell_type": "markdown",
      "source": [
        "What is the rank of Matrix A?"
      ],
      "metadata": {
        "id": "bBkkRhuYEruC"
      }
    },
    {
      "cell_type": "code",
      "source": [
        "rank_A = np.linalg.matrix_rank(A)\n",
        "print(\"Rank of Matrix A:\", rank_A)"
      ],
      "metadata": {
        "colab": {
          "base_uri": "https://localhost:8080/",
          "height": 0
        },
        "id": "rmaB3AVLHJNz",
        "outputId": "2324d49a-e096-44e5-b92e-928c29e9abe5"
      },
      "execution_count": 6,
      "outputs": [
        {
          "output_type": "stream",
          "name": "stdout",
          "text": [
            "Rank of Matrix A: 3\n"
          ]
        }
      ]
    },
    {
      "cell_type": "markdown",
      "source": [
        "Using Pseudo-Inverse find the cost of each product available for sale."
      ],
      "metadata": {
        "id": "QxnczBtiEumH"
      }
    },
    {
      "cell_type": "code",
      "source": [
        "X = np.linalg.pinv(A) @ C\n",
        "print(\"Cost per unit of Candies, Mangoes, and Milk Packets:\")\n",
        "print(X)"
      ],
      "metadata": {
        "colab": {
          "base_uri": "https://localhost:8080/",
          "height": 0
        },
        "id": "lN9i-2S9HLUq",
        "outputId": "d855e19e-9b9d-404d-ecc3-be6844cd2f5a"
      },
      "execution_count": 7,
      "outputs": [
        {
          "output_type": "stream",
          "name": "stdout",
          "text": [
            "Cost per unit of Candies, Mangoes, and Milk Packets:\n",
            "[[ 1.]\n",
            " [55.]\n",
            " [18.]]\n"
          ]
        }
      ]
    },
    {
      "cell_type": "markdown",
      "source": [
        "**QUESTION 2.**"
      ],
      "metadata": {
        "id": "csuQmdsCExYw"
      }
    },
    {
      "cell_type": "markdown",
      "source": [
        "Use the Pseudo-inverse to calculate the model vector X for predicting the cost of the products\n",
        "available with the vendor.\n"
      ],
      "metadata": {
        "id": "tzy0iXTAE0u_"
      }
    },
    {
      "cell_type": "code",
      "source": [
        "X = np.linalg.pinv(A) @ C\n",
        "print(\"Model vector X (Cost per unit of Candies, Mangoes, and Milk Packets):\")\n",
        "print(X)"
      ],
      "metadata": {
        "colab": {
          "base_uri": "https://localhost:8080/",
          "height": 0
        },
        "id": "lASU_PolIAbX",
        "outputId": "56f597d1-87d3-4e9e-ef72-1fc790f39b10"
      },
      "execution_count": 8,
      "outputs": [
        {
          "output_type": "stream",
          "name": "stdout",
          "text": [
            "Model vector X (Cost per unit of Candies, Mangoes, and Milk Packets):\n",
            "[[ 1.]\n",
            " [55.]\n",
            " [18.]]\n"
          ]
        }
      ]
    },
    {
      "cell_type": "markdown",
      "source": [
        "**QUESTION 3.**"
      ],
      "metadata": {
        "id": "dbkWA2hJE3lN"
      }
    },
    {
      "cell_type": "markdown",
      "source": [
        " Mark all customers (in “Purchase Data” table) with payments above Rs. 200 as RICH and others\n",
        "as POOR. Develop a classifier model to categorize customers into RICH or POOR class based on\n",
        "purchase behavior."
      ],
      "metadata": {
        "id": "lppGrl9hE7oy"
      }
    },
    {
      "cell_type": "code",
      "source": [
        "df['Customer_Class'] = ['RICH' if x > 200 else 'POOR' for x in df['Payment (Rs)']]\n",
        "\n",
        "X_features = df[['Candies (#)', 'Mangoes (Kg)', 'Milk Packets (#)']]\n",
        "y_target = df['Customer_Class']\n",
        "\n",
        "label_encoder = LabelEncoder()\n",
        "y_target_encoded = label_encoder.fit_transform(y_target)\n",
        "\n",
        "model = LogisticRegression(max_iter = 1000)\n",
        "model.fit(X_features, y_target_encoded)\n",
        "\n",
        "df['Predicted_Class'] = ['RICH' if x else 'POOR' for x in model.predict(X_features)]\n",
        "print(df[['Predicted_Class']])"
      ],
      "metadata": {
        "colab": {
          "base_uri": "https://localhost:8080/",
          "height": 0
        },
        "id": "4LY2fKxzIS3w",
        "outputId": "3dc14740-8f22-43fc-cb21-f5db3c9a66c7"
      },
      "execution_count": 9,
      "outputs": [
        {
          "output_type": "stream",
          "name": "stdout",
          "text": [
            "  Predicted_Class\n",
            "0            RICH\n",
            "1            RICH\n",
            "2            RICH\n",
            "3            POOR\n",
            "4            RICH\n",
            "5            POOR\n",
            "6            RICH\n",
            "7            RICH\n",
            "8            POOR\n",
            "9            POOR\n"
          ]
        }
      ]
    },
    {
      "cell_type": "markdown",
      "source": [
        "**QUESTION 4.**"
      ],
      "metadata": {
        "id": "mwDcHhTAE_eG"
      }
    },
    {
      "cell_type": "markdown",
      "source": [
        "Please refer to the data present in “IRCTC Stock Price” data sheet of the above excel file. Do the\n",
        "following after loading the data to your programming platform.\n"
      ],
      "metadata": {
        "id": "5dNt7dJaFB8d"
      }
    },
    {
      "cell_type": "code",
      "source": [
        "df = pd.read_excel(\"Lab Session Data.xlsx\", sheet_name=\"IRCTC Stock Price\").dropna(axis=1, how='all')\n",
        "df['Date'] = pd.to_datetime(df['Date'])"
      ],
      "metadata": {
        "id": "ZsFx45gGL6s2"
      },
      "execution_count": 30,
      "outputs": []
    },
    {
      "cell_type": "markdown",
      "source": [
        "Calculate the mean and variance of the Price data present in column D."
      ],
      "metadata": {
        "id": "ZzOxCPEiFiCp"
      }
    },
    {
      "cell_type": "code",
      "source": [
        "mean_price = statistics.mean(df['Price'])\n",
        "variance_price = statistics.variance(df['Price'])\n",
        "print(\"Mean of Price:\", mean_price)\n",
        "print(\"Variance of Price:\", variance_price)"
      ],
      "metadata": {
        "colab": {
          "base_uri": "https://localhost:8080/",
          "height": 0
        },
        "id": "saGnhSwGFK1R",
        "outputId": "df6d6788-48ad-4e79-adfa-b376a9416bd5"
      },
      "execution_count": 31,
      "outputs": [
        {
          "output_type": "stream",
          "name": "stdout",
          "text": [
            "Mean of Price: 1560.663453815261\n",
            "Variance of Price: 58732.365352539186\n"
          ]
        }
      ]
    },
    {
      "cell_type": "markdown",
      "source": [
        "Select the price data for all Wednesdays and calculate the sample mean. Compare the mean\n",
        "with the population mean and note your observations."
      ],
      "metadata": {
        "id": "nDfr33jBFlWV"
      }
    },
    {
      "cell_type": "code",
      "source": [
        "wednesday_prices = df[df['Day'] == 'Wed']['Price']\n",
        "wednesday_mean = statistics.mean(wednesday_prices)\n",
        "print(\"Mean of Wednesday Prices:\", wednesday_mean)\n",
        "print(\"Difference from Population Mean:\", abs(mean_price - wednesday_mean))"
      ],
      "metadata": {
        "colab": {
          "base_uri": "https://localhost:8080/",
          "height": 0
        },
        "id": "BSREXcvgFQtA",
        "outputId": "09055a83-c84a-472d-f046-44e7caba2ec5"
      },
      "execution_count": 32,
      "outputs": [
        {
          "output_type": "stream",
          "name": "stdout",
          "text": [
            "Mean of Wednesday Prices: 1550.706\n",
            "Difference from Population Mean: 9.957453815261033\n"
          ]
        }
      ]
    },
    {
      "cell_type": "markdown",
      "source": [
        "Select the price data for the month of Apr and calculate the sample mean. Compare the\n",
        "mean with the population mean and note your observations."
      ],
      "metadata": {
        "id": "ToQtba-iFpSN"
      }
    },
    {
      "cell_type": "code",
      "source": [
        "april_prices = df[df['Month'] == 'Apr']['Price']\n",
        "april_mean = statistics.mean(april_prices)\n",
        "print(\"Mean of April Prices:\", april_mean)\n",
        "print(\"Difference from Population Mean:\", abs(mean_price - april_mean))"
      ],
      "metadata": {
        "colab": {
          "base_uri": "https://localhost:8080/",
          "height": 0
        },
        "id": "NijbgLRgFTu5",
        "outputId": "4adc07af-5acd-4d58-c3c7-6063dba8b6ff"
      },
      "execution_count": 33,
      "outputs": [
        {
          "output_type": "stream",
          "name": "stdout",
          "text": [
            "Mean of April Prices: 1698.9526315789474\n",
            "Difference from Population Mean: 138.28917776368644\n"
          ]
        }
      ]
    },
    {
      "cell_type": "markdown",
      "source": [
        "From the Chg% (available in column I) find the probability of making a loss over the stock."
      ],
      "metadata": {
        "id": "LybLf4MNFrv6"
      }
    },
    {
      "cell_type": "code",
      "source": [
        "prob_loss = sum(df['Chg%'] < 0) / len(df)\n",
        "print(\"Probability of Loss:\", prob_loss)"
      ],
      "metadata": {
        "colab": {
          "base_uri": "https://localhost:8080/",
          "height": 0
        },
        "id": "1OPoP_MxFVpz",
        "outputId": "344975bb-8f7e-4dbd-b4f5-a40ced3fc323"
      },
      "execution_count": 34,
      "outputs": [
        {
          "output_type": "stream",
          "name": "stdout",
          "text": [
            "Probability of Loss: 0.4979919678714859\n"
          ]
        }
      ]
    },
    {
      "cell_type": "markdown",
      "source": [
        "Calculate the probability of making a profit on Wednesday.\n"
      ],
      "metadata": {
        "id": "5NGQa3foFunS"
      }
    },
    {
      "cell_type": "code",
      "source": [
        "wednesday_profit = sum((df['Day'] == 'Wed') & (df['Chg%'] > 0)) / sum(df['Day'] == 'Wed')\n",
        "print(\"Probability of Profit on Wednesday:\", wednesday_profit)"
      ],
      "metadata": {
        "colab": {
          "base_uri": "https://localhost:8080/",
          "height": 0
        },
        "id": "JrDxhrRXFanH",
        "outputId": "9d4e7e87-7018-4cd0-c7e5-d7252e732223"
      },
      "execution_count": 35,
      "outputs": [
        {
          "output_type": "stream",
          "name": "stdout",
          "text": [
            "Probability of Profit on Wednesday: 0.42\n"
          ]
        }
      ]
    },
    {
      "cell_type": "markdown",
      "source": [
        "Calculate the conditional probability of making profit, given that today is Wednesday."
      ],
      "metadata": {
        "id": "Rl9yION-FxF1"
      }
    },
    {
      "cell_type": "code",
      "source": [
        "prob_profit_given_wed = wednesday_profit / (sum(df['Chg%'] > 0) / len(df))\n",
        "print(\"Conditional Probability of Profit given Wednesday:\", prob_profit_given_wed)"
      ],
      "metadata": {
        "colab": {
          "base_uri": "https://localhost:8080/",
          "height": 0
        },
        "id": "zcKGcz6YFdAX",
        "outputId": "0c9cf111-b6ec-4f5a-e3c8-efd31db16e8a"
      },
      "execution_count": 36,
      "outputs": [
        {
          "output_type": "stream",
          "name": "stdout",
          "text": [
            "Conditional Probability of Profit given Wednesday: 0.8433870967741935\n"
          ]
        }
      ]
    },
    {
      "cell_type": "markdown",
      "source": [
        "Make a scatter plot of Chg% data against the day of the week"
      ],
      "metadata": {
        "id": "c9HgyWstFzWn"
      }
    },
    {
      "cell_type": "code",
      "source": [
        "plt.scatter(df['Day'], df['Chg%'], alpha=0.5)\n",
        "plt.xlabel(\"Day of the Week\")\n",
        "plt.ylabel(\"Chg%\")\n",
        "plt.title(\"Scatter Plot of Chg% vs Day of the Week\")\n",
        "plt.show()"
      ],
      "metadata": {
        "colab": {
          "base_uri": "https://localhost:8080/",
          "height": 472
        },
        "id": "k_BhNlzLFe-X",
        "outputId": "0b73976f-dbbf-448a-dced-b9a76d6eb787"
      },
      "execution_count": 37,
      "outputs": [
        {
          "output_type": "display_data",
          "data": {
            "text/plain": [
              "<Figure size 640x480 with 1 Axes>"
            ],
            "image/png": "[encoded data removed]"
          },
          "metadata": {}
        }
      ]
    },
    {
      "cell_type": "markdown",
      "source": [
        "**QUESTION 5.**"
      ],
      "metadata": {
        "id": "k_MkgPfOF2R4"
      }
    },
    {
      "cell_type": "markdown",
      "source": [
        "Data Exploration: Load the data available in “thyroid0387_UCI” worksheet. Perform the\n",
        "following tasks:"
      ],
      "metadata": {
        "id": "xBSorN2eF5MA"
      }
    },
    {
      "cell_type": "code",
      "source": [
        "df = pd.read_excel(\"Lab Session Data.xlsx\", sheet_name=\"thyroid0387_UCI\").dropna(axis=1, how='all')"
      ],
      "metadata": {
        "id": "pizirWLaN0L7"
      },
      "execution_count": 38,
      "outputs": []
    },
    {
      "cell_type": "markdown",
      "source": [
        "Study each attribute and associated values present. Identify the datatype (nominal etc.)\n",
        "for the attribute."
      ],
      "metadata": {
        "id": "wcZ9c-mrGmbR"
      }
    },
    {
      "cell_type": "code",
      "source": [
        "print(\"\\nData Types:\")\n",
        "print(df.dtypes)"
      ],
      "metadata": {
        "colab": {
          "base_uri": "https://localhost:8080/",
          "height": 0
        },
        "id": "CiyKJK9lGBg6",
        "outputId": "45698344-e917-4160-9adb-8f452e0b5f3c"
      },
      "execution_count": 39,
      "outputs": [
        {
          "output_type": "stream",
          "name": "stdout",
          "text": [
            "\n",
            "Data Types:\n",
            "Record ID                     int64\n",
            "age                           int64\n",
            "sex                          object\n",
            "on thyroxine                 object\n",
            "query on thyroxine           object\n",
            "on antithyroid medication    object\n",
            "sick                         object\n",
            "pregnant                     object\n",
            "thyroid surgery              object\n",
            "I131 treatment               object\n",
            "query hypothyroid            object\n",
            "query hyperthyroid           object\n",
            "lithium                      object\n",
            "goitre                       object\n",
            "tumor                        object\n",
            "hypopituitary                object\n",
            "psych                        object\n",
            "TSH measured                 object\n",
            "TSH                          object\n",
            "T3 measured                  object\n",
            "T3                           object\n",
            "TT4 measured                 object\n",
            "TT4                          object\n",
            "T4U measured                 object\n",
            "T4U                          object\n",
            "FTI measured                 object\n",
            "FTI                          object\n",
            "TBG measured                 object\n",
            "TBG                          object\n",
            "referral source              object\n",
            "Condition                    object\n",
            "dtype: object\n"
          ]
        }
      ]
    },
    {
      "cell_type": "markdown",
      "source": [
        "For categorical attributes, identify the encoding scheme to be employed."
      ],
      "metadata": {
        "id": "odFZQDWeGpU_"
      }
    },
    {
      "cell_type": "code",
      "source": [
        "categorical_columns = ['sex', 'on thyroxine', 'query on thyroxine', 'on antithyroid medication',\n",
        "                        'sick', 'pregnant', 'thyroid surgery', 'I131 treatment', 'query hypothyroid',\n",
        "                        'query hyperthyroid', 'lithium', 'goitre', 'tumor', 'hypopituitary', 'psych',\n",
        "                        'TSH measured', 'T3 measured', 'TT4 measured', 'T4U measured', 'FTI measured',\n",
        "                        'TBG measured', 'referral source', 'Condition']\n",
        "numeric_columns = ['age', 'TSH', 'T3', 'TT4', 'T4U', 'FTI', 'TBG']\n",
        "\n",
        "df[numeric_columns] = df[numeric_columns].apply(pd.to_numeric, errors='coerce')\n",
        "\n",
        "label_encoders = {}\n",
        "for col in categorical_columns:\n",
        "    label_encoders[col] = LabelEncoder()\n",
        "    df[col] = label_encoders[col].fit_transform(df[col].astype(str))"
      ],
      "metadata": {
        "id": "SmDQcqBAGKde"
      },
      "execution_count": 40,
      "outputs": []
    },
    {
      "cell_type": "markdown",
      "source": [
        "Study the data range for numeric variables."
      ],
      "metadata": {
        "id": "UN9n-DTQGsXH"
      }
    },
    {
      "cell_type": "code",
      "source": [
        "print(\"\\nData Range for Numeric Variables:\")\n",
        "for col in numeric_columns:\n",
        "    print(f\"{col}: Min = {df[col].min(skipna=True)}, Max = {df[col].max(skipna=True)}\")"
      ],
      "metadata": {
        "colab": {
          "base_uri": "https://localhost:8080/",
          "height": 0
        },
        "id": "WIgDmlXpGQnC",
        "outputId": "a3fb7bd7-0b15-4ed4-db0b-bdc43ed6458c"
      },
      "execution_count": 41,
      "outputs": [
        {
          "output_type": "stream",
          "name": "stdout",
          "text": [
            "\n",
            "Data Range for Numeric Variables:\n",
            "age: Min = 1, Max = 65526\n",
            "TSH: Min = 0.005, Max = 530.0\n",
            "T3: Min = 0.05, Max = 18.0\n",
            "TT4: Min = 2.0, Max = 600.0\n",
            "T4U: Min = 0.17, Max = 2.33\n",
            "FTI: Min = 1.4, Max = 881.0\n",
            "TBG: Min = 0.1, Max = 200.0\n"
          ]
        }
      ]
    },
    {
      "cell_type": "markdown",
      "source": [
        "Study the presence of missing values in each attribute."
      ],
      "metadata": {
        "id": "pr-1WpGhGvG9"
      }
    },
    {
      "cell_type": "code",
      "source": [
        "print(\"\\nMissing Values:\")\n",
        "print(df.isnull().sum())"
      ],
      "metadata": {
        "colab": {
          "base_uri": "https://localhost:8080/",
          "height": 0
        },
        "id": "WX78eTsWGVDW",
        "outputId": "313b49f4-e527-4585-dd52-9c203e95558b"
      },
      "execution_count": 42,
      "outputs": [
        {
          "output_type": "stream",
          "name": "stdout",
          "text": [
            "\n",
            "Missing Values:\n",
            "Record ID                       0\n",
            "age                             0\n",
            "sex                             0\n",
            "on thyroxine                    0\n",
            "query on thyroxine              0\n",
            "on antithyroid medication       0\n",
            "sick                            0\n",
            "pregnant                        0\n",
            "thyroid surgery                 0\n",
            "I131 treatment                  0\n",
            "query hypothyroid               0\n",
            "query hyperthyroid              0\n",
            "lithium                         0\n",
            "goitre                          0\n",
            "tumor                           0\n",
            "hypopituitary                   0\n",
            "psych                           0\n",
            "TSH measured                    0\n",
            "TSH                           842\n",
            "T3 measured                     0\n",
            "T3                           2604\n",
            "TT4 measured                    0\n",
            "TT4                           442\n",
            "T4U measured                    0\n",
            "T4U                           809\n",
            "FTI measured                    0\n",
            "FTI                           802\n",
            "TBG measured                    0\n",
            "TBG                          8823\n",
            "referral source                 0\n",
            "Condition                       0\n",
            "dtype: int64\n"
          ]
        }
      ]
    },
    {
      "cell_type": "markdown",
      "source": [
        "Study presence of outliers in data."
      ],
      "metadata": {
        "id": "-dK1pzt2GyI-"
      }
    },
    {
      "cell_type": "code",
      "source": [
        "plt.figure(figsize=(12,6))\n",
        "sns.boxplot(data=df[numeric_columns].dropna())\n",
        "plt.title(\"Outliers in Numeric Variables\")\n",
        "plt.xticks(rotation=45)\n",
        "plt.show()"
      ],
      "metadata": {
        "colab": {
          "base_uri": "https://localhost:8080/",
          "height": 561
        },
        "id": "HD2UOzOQGZKX",
        "outputId": "b94a807e-ec4d-41af-ccdc-11d82f52b2fd"
      },
      "execution_count": 43,
      "outputs": [
        {
          "output_type": "display_data",
          "data": {
            "text/plain": [
              "<Figure size 1200x600 with 1 Axes>"
            ],
            "image/png": "[encoded data removed]"
          },
          "metadata": {}
        }
      ]
    },
    {
      "cell_type": "markdown",
      "source": [
        "For numeric variables, calculate the mean and variance (or standard deviation)."
      ],
      "metadata": {
        "id": "Qsx3DxKsG0ue"
      }
    },
    {
      "cell_type": "code",
      "source": [
        "print(\"\\nMean and Standard Deviation:\")\n",
        "for col in numeric_columns:\n",
        "    valid_values = df[col].dropna()\n",
        "    if not valid_values.empty:\n",
        "        print(f\"{col}: Mean = {statistics.mean(valid_values)}, Std Dev = {statistics.stdev(valid_values)}\")"
      ],
      "metadata": {
        "colab": {
          "base_uri": "https://localhost:8080/",
          "height": 0
        },
        "id": "NmfMavcPGcUe",
        "outputId": "ec7b0d17-93a2-48a7-933d-0066441f7a52"
      },
      "execution_count": 44,
      "outputs": [
        {
          "output_type": "stream",
          "name": "stdout",
          "text": [
            "\n",
            "Mean and Standard Deviation:\n",
            "age: Mean = 73.55582206716092, Std Dev = 1183.9767180444658\n",
            "TSH: Mean = 5.218402753781513, Std Dev = 24.184006144749688\n",
            "T3: Mean = 1.9706288057247259, Std Dev = 0.8875788237425203\n",
            "TT4: Mean = 108.70030469644902, Std Dev = 37.52267036706589\n",
            "T4U: Mean = 0.9760557216309936, Std Dev = 0.20036044118054985\n",
            "FTI: Mean = 113.64074551935484, Std Dev = 41.551649606978955\n",
            "TBG: Mean = 29.87005729512894, Std Dev = 21.08050386018955\n"
          ]
        }
      ]
    },
    {
      "cell_type": "markdown",
      "source": [
        "**QUESTION 6.**"
      ],
      "metadata": {
        "id": "51fnAKBOG5tW"
      }
    },
    {
      "cell_type": "markdown",
      "source": [
        "Data Imputation: employ appropriate central tendencies to fill the missing values in the data\n",
        "variables. Employ following guidance."
      ],
      "metadata": {
        "id": "uFn5WArzG79K"
      }
    },
    {
      "cell_type": "markdown",
      "source": [
        "\n",
        "\n",
        "*   Mean may be used when the attribute is numeric with no outliers\n",
        "\n",
        "*   Median may be employed for attributes which are numeric and contain outliers\n",
        "*   Mode may be employed for categorical attributes\n",
        "\n",
        "\n",
        "\n",
        "\n"
      ],
      "metadata": {
        "id": "qythOvfzG_qp"
      }
    },
    {
      "cell_type": "code",
      "source": [
        "df = pd.read_excel(\"Lab Session Data.xlsx\", sheet_name=\"thyroid0387_UCI\").dropna(axis=1, how='all')\n",
        "\n",
        "categorical_columns = ['sex', 'on thyroxine', 'query on thyroxine', 'on antithyroid medication',\n",
        "                        'sick', 'pregnant', 'thyroid surgery', 'I131 treatment', 'query hypothyroid',\n",
        "                        'query hyperthyroid', 'lithium', 'goitre', 'tumor', 'hypopituitary', 'psych',\n",
        "                        'TSH measured', 'T3 measured', 'TT4 measured', 'T4U measured', 'FTI measured',\n",
        "                        'TBG measured', 'referral source', 'Condition']\n",
        "numeric_columns = ['age', 'TSH', 'T3', 'TT4', 'T4U', 'FTI', 'TBG']\n",
        "\n",
        "df[numeric_columns] = df[numeric_columns].apply(pd.to_numeric, errors='coerce')\n",
        "\n",
        "outliers = {}\n",
        "for col in numeric_columns:\n",
        "    Q1 = df[col].quantile(0.25)\n",
        "    Q3 = df[col].quantile(0.75)\n",
        "    IQR = Q3 - Q1\n",
        "    lower_bound = Q1 - 1.5 * IQR\n",
        "    upper_bound = Q3 + 1.5 * IQR\n",
        "    outliers[col] = df[(df[col] < lower_bound) | (df[col] > upper_bound)][col].count()\n",
        "\n",
        "for col in numeric_columns:\n",
        "    if df[col].isnull().sum() > 0:\n",
        "        if outliers[col] == 0:\n",
        "            df[col] = df[col].fillna(df[col].mean())\n",
        "        else:\n",
        "            df[col] = df[col].fillna(df[col].median())\n",
        "\n",
        "for col in categorical_columns:\n",
        "    if df[col].isnull().sum() > 0:\n",
        "        df[col] = df[col].fillna(df[col].mode()[0])\n",
        "\n",
        "print(\"\\nMissing Values after Imputation:\")\n",
        "print(df.isnull().sum())\n",
        "\n",
        "plt.figure(figsize=(12,6))\n",
        "sns.boxplot(data=df[numeric_columns])\n",
        "plt.title(\"Outliers in Numeric Variables\")\n",
        "plt.xticks(rotation=45)\n",
        "plt.show()"
      ],
      "metadata": {
        "colab": {
          "base_uri": "https://localhost:8080/",
          "height": 1035
        },
        "id": "UMBKXDhn9vcu",
        "outputId": "87d48590-c8ae-405c-83c6-2a88b1ec548b"
      },
      "execution_count": 45,
      "outputs": [
        {
          "output_type": "stream",
          "name": "stdout",
          "text": [
            "\n",
            "Missing Values after Imputation:\n",
            "Record ID                    0\n",
            "age                          0\n",
            "sex                          0\n",
            "on thyroxine                 0\n",
            "query on thyroxine           0\n",
            "on antithyroid medication    0\n",
            "sick                         0\n",
            "pregnant                     0\n",
            "thyroid surgery              0\n",
            "I131 treatment               0\n",
            "query hypothyroid            0\n",
            "query hyperthyroid           0\n",
            "lithium                      0\n",
            "goitre                       0\n",
            "tumor                        0\n",
            "hypopituitary                0\n",
            "psych                        0\n",
            "TSH measured                 0\n",
            "TSH                          0\n",
            "T3 measured                  0\n",
            "T3                           0\n",
            "TT4 measured                 0\n",
            "TT4                          0\n",
            "T4U measured                 0\n",
            "T4U                          0\n",
            "FTI measured                 0\n",
            "FTI                          0\n",
            "TBG measured                 0\n",
            "TBG                          0\n",
            "referral source              0\n",
            "Condition                    0\n",
            "dtype: int64\n"
          ]
        },
        {
          "output_type": "display_data",
          "data": {
            "text/plain": [
              "<Figure size 1200x600 with 1 Axes>"
            ],
            "image/png": "[encoded data removed]"
          },
          "metadata": {}
        }
      ]
    },
    {
      "cell_type": "markdown",
      "source": [
        "**QUESTION 7.**"
      ],
      "metadata": {
        "id": "6jQqapIhHZk5"
      }
    },
    {
      "cell_type": "markdown",
      "source": [
        "Data Normalization / Scaling: from the data study, identify the attributes which may need\n",
        "normalization. Employ appropriate normalization techniques to create normalized set of data."
      ],
      "metadata": {
        "id": "dU9X5pt3Hbz2"
      }
    },
    {
      "cell_type": "code",
      "source": [
        "numeric_columns = ['age', 'TSH', 'T3', 'TT4', 'T4U', 'FTI', 'TBG']\n",
        "\n",
        "scaler_standard = StandardScaler()\n",
        "standardized_data = pd.DataFrame(scaler_standard.fit_transform(df[numeric_columns]), columns=numeric_columns)\n",
        "\n",
        "scaler_minmax = MinMaxScaler()\n",
        "normalized_data = pd.DataFrame(scaler_minmax.fit_transform(df[numeric_columns]), columns=numeric_columns)\n",
        "\n",
        "df_normalized = df.copy()\n",
        "for col in numeric_columns:\n",
        "    if df[col].skew() < 1:\n",
        "        df_normalized[col] = standardized_data[col]\n",
        "    else:\n",
        "        df_normalized[col] = normalized_data[col]\n",
        "\n",
        "print(\"\\nNormalized Data Sample:\")\n",
        "print(df_normalized[numeric_columns].head())\n",
        "\n",
        "plt.figure(figsize=(12, 8))\n",
        "for i, col in enumerate(numeric_columns):\n",
        "    plt.subplot(3, 3, i+1)\n",
        "    sns.histplot(df_normalized[col], bins=30, kde=True)\n",
        "    plt.title(f\"Normalized {col}\")\n",
        "\n",
        "plt.tight_layout()\n",
        "plt.show()\n"
      ],
      "metadata": {
        "colab": {
          "base_uri": "https://localhost:8080/",
          "height": 946
        },
        "id": "XAjIyzPn_Dj6",
        "outputId": "46e15755-8ad4-47d1-d059-cf548b8ab39f"
      },
      "execution_count": 46,
      "outputs": [
        {
          "output_type": "stream",
          "name": "stdout",
          "text": [
            "\n",
            "Normalized Data Sample:\n",
            "        age       TSH        T3       TT4       T4U       FTI       TBG\n",
            "0  0.000427  0.000557  0.103064  0.170569  0.365741  0.122328  0.129565\n",
            "1  0.000427  0.003009  0.103064  0.210702  0.365741  0.122328  0.129565\n",
            "2  0.000610  0.002632  0.103064  0.170569  0.365741  0.122328  0.054527\n",
            "3  0.000534  0.002632  0.103064  0.170569  0.365741  0.122328  0.129565\n",
            "4  0.000473  0.002632  0.103064  0.170569  0.365741  0.122328  0.179590\n"
          ]
        },
        {
          "output_type": "display_data",
          "data": {
            "text/plain": [
              "<Figure size 1200x800 with 7 Axes>"
            ],
            "image/png": "[encoded data removed]"
          },
          "metadata": {}
        }
      ]
    },
    {
      "cell_type": "markdown",
      "source": [
        "**QUESTION 8.**"
      ],
      "metadata": {
        "id": "bhKAb5A7HssA"
      }
    },
    {
      "cell_type": "markdown",
      "source": [
        "Similarity Measure: Take the first 2 observation vectors from the dataset. Consider only the\n",
        "attributes (direct or derived) with binary values for these vectors (ignore other attributes). Calculate\n",
        "the Jaccard Coefficient (JC) and Simple Matching Coefficient (SMC) between the document vectors.\n",
        "Use first vector for each document for this. Compare the values for JC and SMC and judge the\n",
        "appropriateness of each of them"
      ],
      "metadata": {
        "id": "ynOGsgrqHv74"
      }
    },
    {
      "cell_type": "code",
      "source": [
        "binary_columns = [col for col in df.columns if df[col].nunique() == 2]\n",
        "df_binary = df[binary_columns]\n",
        "\n",
        "vector1 = df_binary.iloc[0].values\n",
        "vector2 = df_binary.iloc[1].values\n",
        "\n",
        "f11 = np.sum((vector1 == 1) & (vector2 == 1))\n",
        "f00 = np.sum((vector1 == 0) & (vector2 == 0))\n",
        "f01 = np.sum((vector1 == 0) & (vector2 == 1))\n",
        "f10 = np.sum((vector1 == 1) & (vector2 == 0))\n",
        "\n",
        "if (f01 + f10 + f11) == 0:\n",
        "    jc = 0\n",
        "else:\n",
        "    jc = f11 / (f01 + f10 + f11)\n",
        "\n",
        "if (f00 + f01 + f10 + f11) == 0:\n",
        "    smc = 0\n",
        "else:\n",
        "    smc = (f11 + f00) / (f00 + f01 + f10 + f11)\n",
        "\n",
        "print(f\"Jaccard Coefficient (JC): {jc:.4f}\")\n",
        "print(f\"Simple Matching Coefficient (SMC): {smc:.4f}\")\n",
        "\n",
        "if jc > smc:\n",
        "    print(\"Jaccard Coefficient is more appropriate for this case (ignores f00).\")\n",
        "else:\n",
        "    print(\"Simple Matching Coefficient is more appropriate for this case (considers f00).\")"
      ],
      "metadata": {
        "colab": {
          "base_uri": "https://localhost:8080/",
          "height": 0
        },
        "id": "SyxzgTq4_xvV",
        "outputId": "bc820cbd-0b74-417d-ba5b-eec706872609"
      },
      "execution_count": 47,
      "outputs": [
        {
          "output_type": "stream",
          "name": "stdout",
          "text": [
            "Jaccard Coefficient (JC): 0.0000\n",
            "Simple Matching Coefficient (SMC): 0.0000\n",
            "Simple Matching Coefficient is more appropriate for this case (considers f00).\n"
          ]
        }
      ]
    },
    {
      "cell_type": "markdown",
      "source": [
        "**QUESTION 9.**"
      ],
      "metadata": {
        "id": "kfRYafqiH87D"
      }
    },
    {
      "cell_type": "markdown",
      "source": [
        "Cosine Similarity Measure: Now take the complete vectors for these two observations (including\n",
        "all the attributes). Calculate the Cosine similarity between the documents by using the second\n",
        "feature vector for each document."
      ],
      "metadata": {
        "id": "lF-If5AAH-r1"
      }
    },
    {
      "cell_type": "code",
      "source": [
        "df_numeric = df.select_dtypes(include=['number']).copy()\n",
        "\n",
        "for col in df.select_dtypes(include=['object']).columns:\n",
        "    df[col] = LabelEncoder().fit_transform(df[col].astype(str))\n",
        "\n",
        "df_numeric = df.select_dtypes(include=['number']).copy()\n",
        "\n",
        "vector1 = df_numeric.iloc[0].values.reshape(1, -1)\n",
        "vector2 = df_numeric.iloc[1].values.reshape(1, -1)\n",
        "\n",
        "cos_sim = cosine_similarity(vector1, vector2)[0][0]\n",
        "\n",
        "print(f\"Cosine Similarity: {cos_sim:.4f}\")"
      ],
      "metadata": {
        "colab": {
          "base_uri": "https://localhost:8080/",
          "height": 0
        },
        "id": "qLwFseebAHkm",
        "outputId": "bda2d4a1-15ef-42d9-c97b-fe2754e71323"
      },
      "execution_count": 48,
      "outputs": [
        {
          "output_type": "stream",
          "name": "stdout",
          "text": [
            "Cosine Similarity: 1.0000\n"
          ]
        }
      ]
    },
    {
      "cell_type": "markdown",
      "source": [
        "**QUESTION 10.**"
      ],
      "metadata": {
        "id": "qwzKIBIHIT6q"
      }
    },
    {
      "cell_type": "markdown",
      "source": [
        " Heatmap Plot: Consider the first 20 observation vectors. Calculate the JC, SMC and COS\n",
        "between the pairs of vectors for these 20 vectors. Employ similar strategies for coefficient\n",
        "calculation as in A4 & A5. Employ a heatmap plot to visualize the similarities."
      ],
      "metadata": {
        "id": "pVYJXPJ0IVre"
      }
    },
    {
      "cell_type": "code",
      "source": [
        "df_20 = df.iloc[:20].copy()\n",
        "\n",
        "binary_cols = df_20.select_dtypes(include=['object', 'bool']).columns\n",
        "numeric_cols = df_20.select_dtypes(include=['number']).columns\n",
        "\n",
        "for col in binary_cols:\n",
        "    df_20[col] = LabelEncoder().fit_transform(df_20[col].astype(str))\n",
        "\n",
        "df_numeric_20 = df_20[numeric_cols].copy()\n",
        "\n",
        "def calculate_jc_smc(vec1, vec2):\n",
        "    f11 = np.sum((vec1 == 1) & (vec2 == 1))\n",
        "    f10 = np.sum((vec1 == 1) & (vec2 == 0))\n",
        "    f01 = np.sum((vec1 == 0) & (vec2 == 1))\n",
        "    f00 = np.sum((vec1 == 0) & (vec2 == 0))\n",
        "\n",
        "    jc = f11 / (f11 + f10 + f01) if (f11 + f10 + f01) != 0 else 0\n",
        "    smc = (f11 + f00) / (f11 + f10 + f01 + f00)\n",
        "\n",
        "    return jc, smc\n",
        "\n",
        "jc_matrix = np.zeros((20, 20))\n",
        "smc_matrix = np.zeros((20, 20))\n",
        "cos_matrix = cosine_similarity(df_numeric_20)\n",
        "\n",
        "for i in range(20):\n",
        "    for j in range(20):\n",
        "        jc, smc = calculate_jc_smc(df_20.iloc[i], df_20.iloc[j])\n",
        "        jc_matrix[i, j] = jc\n",
        "        smc_matrix[i, j] = smc\n",
        "\n",
        "fig, axes = plt.subplots(1, 3, figsize=(18, 5))\n",
        "\n",
        "sns.heatmap(jc_matrix, annot=False, cmap=\"coolwarm\", ax=axes[0])\n",
        "axes[0].set_title(\"Jaccard Coefficient Heatmap\")\n",
        "\n",
        "sns.heatmap(smc_matrix, annot=False, cmap=\"coolwarm\", ax=axes[1])\n",
        "axes[1].set_title(\"Simple Matching Coefficient Heatmap\")\n",
        "\n",
        "sns.heatmap(cos_matrix, annot=False, cmap=\"coolwarm\", ax=axes[2])\n",
        "axes[2].set_title(\"Cosine Similarity Heatmap\")\n",
        "\n",
        "plt.show()\n"
      ],
      "metadata": {
        "colab": {
          "base_uri": "https://localhost:8080/",
          "height": 463
        },
        "id": "K_nsm6FvAaa4",
        "outputId": "0bac35ca-e22e-46e6-886f-29d21c95d7ed"
      },
      "execution_count": 26,
      "outputs": [
        {
          "output_type": "display_data",
          "data": {
            "text/plain": [
              "<Figure size 1800x500 with 6 Axes>"
            ],
            "image/png": "[encoded data removed]"
          },
          "metadata": {}
        }
      ]
    }
  ]
}